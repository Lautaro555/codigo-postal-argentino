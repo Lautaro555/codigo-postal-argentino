{
 "cells": [
  {
   "attachments": {},
   "cell_type": "markdown",
   "metadata": {},
   "source": [
    "Usando la libreria pandas se importan los datasets"
   ]
  },
  {
   "cell_type": "code",
   "execution_count": null,
   "metadata": {},
   "outputs": [],
   "source": [
    "import pandas as pd\n",
    "\n",
    "df_provincias = pd.read_csv(r\"datasets_originales\\cpa_csv\\provincias.csv\")\n",
    "df_parajes = pd.read_csv(r\"datasets_originales\\cpa_csv\\parajes.csv\")\n",
    "df_tipos_camino = pd.read_csv(r\"datasets_originales\\cpa_csv\\tipos_camino.csv\")\n",
    "df_cpa = pd.read_csv(r\"datasets_originales\\cpa_csv\\cpa.csv\")\n",
    "df_cp_1974 = pd.read_csv(r\"datasets_originales\\cpa_csv\\cp_1974.csv\")\n",
    "df_localidades = pd.read_csv(r\"datasets_originales\\cpa_csv\\localidades.csv\")\n",
    "df_calles = pd.read_csv(r\"datasets_originales\\cpa_csv\\calles.csv\")\n",
    "df_alturas = pd.read_csv(r\"datasets_originales\\cpa_csv\\alturas.csv\")"
   ]
  },
  {
   "attachments": {},
   "cell_type": "markdown",
   "metadata": {},
   "source": [
    "El csv de alturas se divide en 2 debido a las limitaciones de github en el tamaño de archivos"
   ]
  },
  {
   "cell_type": "code",
   "execution_count": 2,
   "metadata": {},
   "outputs": [],
   "source": [
    "parte1 = df_alturas.iloc[:len(df_alturas)//2]\n",
    "parte2 = df_alturas.iloc[len(df_alturas)//2:]\n",
    "\n",
    "parte1.to_csv(r\"datasets_originales\\cpa_csv\\alturas_parte1.csv\", index=False)\n",
    "parte2.to_csv(r\"datasets_originales\\cpa_csv\\alturas_parte2.csv\", index=False)"
   ]
  },
  {
   "attachments": {},
   "cell_type": "markdown",
   "metadata": {},
   "source": [
    "Los dataframes se unen en un solo dataframe, usando los id de cada dataframe.\n",
    "  \n",
    "  Para este caso en particular se empieza uniendo los id de alturas y calles, es decir de los dataframes con datos mas especificos, y luego se va uniendo el resto a medida que los datos son mas generales, por ejemplo en el csv de provincias o de tipos de camino. \n",
    "  "
   ]
  },
  {
   "cell_type": "code",
   "execution_count": 3,
   "metadata": {},
   "outputs": [],
   "source": [
    "df_join1 = pd.merge(df_alturas, df_calles, left_on=\"id_calle\", right_on=\"id\", how=\"inner\", suffixes=(\"_alturas\",\"_calle2\"))\n",
    "df_join2 = pd.merge(df_join1, df_localidades, left_on=\"id_localidad\", right_on=\"id\", how=\"inner\", suffixes=(\"\",\"_localidad2\"))\n",
    "df_join3 = pd.merge(df_join2, df_parajes, left_on=\"id_paraje\", right_on=\"id\", how=\"inner\", suffixes=(\"\",\"_paraje2\"))\n",
    "df_join4 = pd.merge(df_join3, df_provincias, left_on=\"id_provincia\", right_on=\"id\", how=\"inner\", suffixes=(\"\",\"_provincia2\"))\n",
    "df_join5 = pd.merge(df_join4, df_tipos_camino, left_on=\"id_tipo_camino\", right_on=\"id\", how=\"outer\", suffixes=(\"\",\"_tc2\"))\n",
    "df_join6 = pd.merge(df_join5, df_cpa, left_on=\"id_cpa\", right_on=\"id\", how=\"inner\", suffixes=(\"\",\"_cpa2\"))\n",
    "df_join7 = pd.merge(df_join6, df_cp_1974, left_on=\"id_cp_1974\", right_on=\"id\", how=\"inner\", suffixes=(\"\",\"_cp2\"))"
   ]
  },
  {
   "attachments": {},
   "cell_type": "markdown",
   "metadata": {},
   "source": [
    "Se eligen solo las columnas con las que se va a trabajar, las que aportan mas informacion y tienen menor cantidad de valores nulos."
   ]
  },
  {
   "cell_type": "code",
   "execution_count": 4,
   "metadata": {},
   "outputs": [],
   "source": [
    "resultado = df_join7[[\"cpa\",\"cod_postal\", \"nombre_provincia2\" , \"nombre_paraje2\" , \"nombre_localidad2\",  \"nombre_completo\", \"nombre_abreviado\", \"desde\" , \"hasta\" , \"nombre_tc2\"]]\n"
   ]
  },
  {
   "attachments": {},
   "cell_type": "markdown",
   "metadata": {},
   "source": [
    "Luego se renombran las columnas para una mejor comprension de cada una."
   ]
  },
  {
   "cell_type": "code",
   "execution_count": null,
   "metadata": {},
   "outputs": [],
   "source": [
    "resultado.rename(columns={'cod_postal': 'codigo_postal', \n",
    "                          'nombre_provincia2': 'provincia',\n",
    "                          'nombre_localidad2': 'localidad',\n",
    "                          'nombre_paraje2': 'partido',\n",
    "                          'nombre_completo': 'nombre_completo_calle',\n",
    "                          'nombre_abreviado': 'nombre_abreviado_calle',\n",
    "                          'nombre_tc2': 'tipo_de_calle',\n",
    "                          'desde': 'altura_desde',\n",
    "                          'hasta': 'altura_hasta'},inplace=True)\n"
   ]
  },
  {
   "attachments": {},
   "cell_type": "markdown",
   "metadata": {},
   "source": [
    "Se eliminan los valores nulos de la columna \"cpa\", se eliminan las filas que tienen valores duplicados con respecto a todas las columnas y se resetea el indice para solucionar los valores faltantes."
   ]
  },
  {
   "cell_type": "code",
   "execution_count": null,
   "metadata": {},
   "outputs": [],
   "source": [
    "resultado[\"cpa\"].dropna(inplace=True)\n",
    "resultado.drop_duplicates(inplace=True)\n",
    "resultado.reset_index(drop=True,inplace=True)"
   ]
  },
  {
   "attachments": {},
   "cell_type": "markdown",
   "metadata": {},
   "source": [
    "Aca se ve una vista previa del dataframe con los cpa, codigos postales, provincias, partidos, localidades, nombres de calles, rangos de altura y tipo de calle."
   ]
  },
  {
   "cell_type": "code",
   "execution_count": 7,
   "metadata": {},
   "outputs": [
    {
     "data": {
      "text/html": [
       "<div>\n",
       "<style scoped>\n",
       "    .dataframe tbody tr th:only-of-type {\n",
       "        vertical-align: middle;\n",
       "    }\n",
       "\n",
       "    .dataframe tbody tr th {\n",
       "        vertical-align: top;\n",
       "    }\n",
       "\n",
       "    .dataframe thead th {\n",
       "        text-align: right;\n",
       "    }\n",
       "</style>\n",
       "<table border=\"1\" class=\"dataframe\">\n",
       "  <thead>\n",
       "    <tr style=\"text-align: right;\">\n",
       "      <th></th>\n",
       "      <th>cpa</th>\n",
       "      <th>codigo_postal</th>\n",
       "      <th>provincia</th>\n",
       "      <th>partido</th>\n",
       "      <th>localidad</th>\n",
       "      <th>nombre_completo_calle</th>\n",
       "      <th>nombre_abreviado_calle</th>\n",
       "      <th>altura_desde</th>\n",
       "      <th>altura_hasta</th>\n",
       "      <th>tipo_de_calle</th>\n",
       "    </tr>\n",
       "  </thead>\n",
       "  <tbody>\n",
       "    <tr>\n",
       "      <th>0</th>\n",
       "      <td>B6660DCA</td>\n",
       "      <td>6660</td>\n",
       "      <td>BUENOS AIRES</td>\n",
       "      <td>25 DE MAYO</td>\n",
       "      <td>25 DE MAYO</td>\n",
       "      <td>1</td>\n",
       "      <td>CALLE 1</td>\n",
       "      <td>1</td>\n",
       "      <td>99</td>\n",
       "      <td>CALLE</td>\n",
       "    </tr>\n",
       "    <tr>\n",
       "      <th>1</th>\n",
       "      <td>B6660DCA</td>\n",
       "      <td>6660</td>\n",
       "      <td>BUENOS AIRES</td>\n",
       "      <td>25 DE MAYO</td>\n",
       "      <td>25 DE MAYO</td>\n",
       "      <td>RONDEAU MARIANO</td>\n",
       "      <td>MARIANO RONDEAU</td>\n",
       "      <td>1</td>\n",
       "      <td>99</td>\n",
       "      <td>CALLE</td>\n",
       "    </tr>\n",
       "    <tr>\n",
       "      <th>2</th>\n",
       "      <td>B6660DCB</td>\n",
       "      <td>6660</td>\n",
       "      <td>BUENOS AIRES</td>\n",
       "      <td>25 DE MAYO</td>\n",
       "      <td>25 DE MAYO</td>\n",
       "      <td>1</td>\n",
       "      <td>CALLE 1</td>\n",
       "      <td>2</td>\n",
       "      <td>100</td>\n",
       "      <td>CALLE</td>\n",
       "    </tr>\n",
       "    <tr>\n",
       "      <th>3</th>\n",
       "      <td>B6660DCB</td>\n",
       "      <td>6660</td>\n",
       "      <td>BUENOS AIRES</td>\n",
       "      <td>25 DE MAYO</td>\n",
       "      <td>25 DE MAYO</td>\n",
       "      <td>RONDEAU MARIANO</td>\n",
       "      <td>MARIANO RONDEAU</td>\n",
       "      <td>2</td>\n",
       "      <td>100</td>\n",
       "      <td>CALLE</td>\n",
       "    </tr>\n",
       "    <tr>\n",
       "      <th>4</th>\n",
       "      <td>B6660DCC</td>\n",
       "      <td>6660</td>\n",
       "      <td>BUENOS AIRES</td>\n",
       "      <td>25 DE MAYO</td>\n",
       "      <td>25 DE MAYO</td>\n",
       "      <td>1</td>\n",
       "      <td>CALLE 1</td>\n",
       "      <td>101</td>\n",
       "      <td>199</td>\n",
       "      <td>CALLE</td>\n",
       "    </tr>\n",
       "    <tr>\n",
       "      <th>...</th>\n",
       "      <td>...</td>\n",
       "      <td>...</td>\n",
       "      <td>...</td>\n",
       "      <td>...</td>\n",
       "      <td>...</td>\n",
       "      <td>...</td>\n",
       "      <td>...</td>\n",
       "      <td>...</td>\n",
       "      <td>...</td>\n",
       "      <td>...</td>\n",
       "    </tr>\n",
       "    <tr>\n",
       "      <th>2354766</th>\n",
       "      <td>B1649VGI</td>\n",
       "      <td>1649</td>\n",
       "      <td>BUENOS AIRES</td>\n",
       "      <td>TIGRE</td>\n",
       "      <td>ZONA DELTA TIGRE</td>\n",
       "      <td>SAN ANTONIO</td>\n",
       "      <td>SAN ANTONIO</td>\n",
       "      <td>0</td>\n",
       "      <td>0</td>\n",
       "      <td>RIO</td>\n",
       "    </tr>\n",
       "    <tr>\n",
       "      <th>2354767</th>\n",
       "      <td>B1649VGJ</td>\n",
       "      <td>1649</td>\n",
       "      <td>BUENOS AIRES</td>\n",
       "      <td>TIGRE</td>\n",
       "      <td>ZONA DELTA TIGRE</td>\n",
       "      <td>SARMIENTO</td>\n",
       "      <td>SARMIENTO</td>\n",
       "      <td>0</td>\n",
       "      <td>0</td>\n",
       "      <td>RIO</td>\n",
       "    </tr>\n",
       "    <tr>\n",
       "      <th>2354768</th>\n",
       "      <td>B1649VGK</td>\n",
       "      <td>1649</td>\n",
       "      <td>BUENOS AIRES</td>\n",
       "      <td>TIGRE</td>\n",
       "      <td>ZONA DELTA TIGRE</td>\n",
       "      <td>TIGRE</td>\n",
       "      <td>TIGRE</td>\n",
       "      <td>0</td>\n",
       "      <td>0</td>\n",
       "      <td>RIO</td>\n",
       "    </tr>\n",
       "    <tr>\n",
       "      <th>2354769</th>\n",
       "      <td>B1649VGC</td>\n",
       "      <td>1649</td>\n",
       "      <td>BUENOS AIRES</td>\n",
       "      <td>TIGRE</td>\n",
       "      <td>ZONA DELTA TIGRE</td>\n",
       "      <td>PUERTO DE FRUTOS</td>\n",
       "      <td>PUERTO DE FRUTOS</td>\n",
       "      <td>0</td>\n",
       "      <td>0</td>\n",
       "      <td>EMBARCADERO</td>\n",
       "    </tr>\n",
       "    <tr>\n",
       "      <th>2354770</th>\n",
       "      <td>B1649VGB</td>\n",
       "      <td>1649</td>\n",
       "      <td>BUENOS AIRES</td>\n",
       "      <td>TIGRE</td>\n",
       "      <td>ZONA DELTA TIGRE</td>\n",
       "      <td>PUERTO TIGRE</td>\n",
       "      <td>PUERTO TIGRE</td>\n",
       "      <td>0</td>\n",
       "      <td>0</td>\n",
       "      <td>EMBARCADERO</td>\n",
       "    </tr>\n",
       "  </tbody>\n",
       "</table>\n",
       "<p>2354771 rows × 10 columns</p>\n",
       "</div>"
      ],
      "text/plain": [
       "              cpa  codigo_postal     provincia     partido         localidad  \\\n",
       "0        B6660DCA           6660  BUENOS AIRES  25 DE MAYO        25 DE MAYO   \n",
       "1        B6660DCA           6660  BUENOS AIRES  25 DE MAYO        25 DE MAYO   \n",
       "2        B6660DCB           6660  BUENOS AIRES  25 DE MAYO        25 DE MAYO   \n",
       "3        B6660DCB           6660  BUENOS AIRES  25 DE MAYO        25 DE MAYO   \n",
       "4        B6660DCC           6660  BUENOS AIRES  25 DE MAYO        25 DE MAYO   \n",
       "...           ...            ...           ...         ...               ...   \n",
       "2354766  B1649VGI           1649  BUENOS AIRES       TIGRE  ZONA DELTA TIGRE   \n",
       "2354767  B1649VGJ           1649  BUENOS AIRES       TIGRE  ZONA DELTA TIGRE   \n",
       "2354768  B1649VGK           1649  BUENOS AIRES       TIGRE  ZONA DELTA TIGRE   \n",
       "2354769  B1649VGC           1649  BUENOS AIRES       TIGRE  ZONA DELTA TIGRE   \n",
       "2354770  B1649VGB           1649  BUENOS AIRES       TIGRE  ZONA DELTA TIGRE   \n",
       "\n",
       "        nombre_completo_calle nombre_abreviado_calle  altura_desde  \\\n",
       "0                           1                CALLE 1             1   \n",
       "1             RONDEAU MARIANO        MARIANO RONDEAU             1   \n",
       "2                           1                CALLE 1             2   \n",
       "3             RONDEAU MARIANO        MARIANO RONDEAU             2   \n",
       "4                           1                CALLE 1           101   \n",
       "...                       ...                    ...           ...   \n",
       "2354766           SAN ANTONIO            SAN ANTONIO             0   \n",
       "2354767             SARMIENTO              SARMIENTO             0   \n",
       "2354768                 TIGRE                  TIGRE             0   \n",
       "2354769      PUERTO DE FRUTOS       PUERTO DE FRUTOS             0   \n",
       "2354770          PUERTO TIGRE           PUERTO TIGRE             0   \n",
       "\n",
       "         altura_hasta tipo_de_calle  \n",
       "0                  99         CALLE  \n",
       "1                  99         CALLE  \n",
       "2                 100         CALLE  \n",
       "3                 100         CALLE  \n",
       "4                 199         CALLE  \n",
       "...               ...           ...  \n",
       "2354766             0           RIO  \n",
       "2354767             0           RIO  \n",
       "2354768             0           RIO  \n",
       "2354769             0   EMBARCADERO  \n",
       "2354770             0   EMBARCADERO  \n",
       "\n",
       "[2354771 rows x 10 columns]"
      ]
     },
     "execution_count": 7,
     "metadata": {},
     "output_type": "execute_result"
    }
   ],
   "source": [
    "resultado"
   ]
  },
  {
   "attachments": {},
   "cell_type": "markdown",
   "metadata": {},
   "source": [
    "Por ultimo se guarda el dataframe como csv para su posterior uso.  \n",
    "En este caso se guarda en la carpeta de la api que se va a utilizar el csv."
   ]
  },
  {
   "cell_type": "code",
   "execution_count": 8,
   "metadata": {},
   "outputs": [],
   "source": [
    "longitud = len(resultado)\n",
    "parte1_end= longitud // 3\n",
    "parte2_end = 2 * (longitud // 3)\n",
    "\n",
    "parte1 = resultado.iloc[:parte1_end]\n",
    "parte2 = resultado.iloc[parte1_end:parte2_end]\n",
    "parte3 = resultado.iloc[parte2_end:]\n",
    "\n",
    "parte1.to_csv(\"api\\cpa_csv\\complete_cpa_data_part1.csv\", index=False)\n",
    "parte2.to_csv(\"api\\cpa_csv\\complete_cpa_data_part2.csv\", index=False)\n",
    "parte3.to_csv(\"api\\cpa_csv\\complete_cpa_data_part3.csv\", index=False)\n"
   ]
  }
 ],
 "metadata": {
  "kernelspec": {
   "display_name": "Python 3",
   "language": "python",
   "name": "python3"
  },
  "language_info": {
   "codemirror_mode": {
    "name": "ipython",
    "version": 3
   },
   "file_extension": ".py",
   "mimetype": "text/x-python",
   "name": "python",
   "nbconvert_exporter": "python",
   "pygments_lexer": "ipython3",
   "version": "3.10.7"
  },
  "orig_nbformat": 4,
  "vscode": {
   "interpreter": {
    "hash": "2711725d473bbbc5495942fb8452d9b92540956864e278750e6f52a820e4fcee"
   }
  }
 },
 "nbformat": 4,
 "nbformat_minor": 2
}
